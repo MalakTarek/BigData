{
  "cells": [
    {
      "cell_type": "code",
      "execution_count": 1,
      "metadata": {
        "id": "FgZB9rcZEfv_"
      },
      "outputs": [],
      "source": [
        "#importing pandas\n",
        "import pandas as pd"
      ]
    },
    {
      "cell_type": "code",
      "execution_count": 2,
      "metadata": {
        "id": "cAwKmXHREzKa"
      },
      "outputs": [],
      "source": [
        "#reading the dataset\n",
        "dataset=pd.read_csv(\"music_streaming.csv\")"
      ]
    },
    {
      "cell_type": "code",
      "execution_count": 3,
      "metadata": {
        "colab": {
          "base_uri": "https://localhost:8080/",
          "height": 400
        },
        "id": "fBBg2cmkFSvV",
        "outputId": "5bd53ee8-0bbe-420f-9348-f9d1a299c4d0"
      },
      "outputs": [
        {
          "data": {
            "application/vnd.google.colaboratory.intrinsic+json": {
              "summary": "{\n  \"name\": \"dataset\",\n  \"rows\": 15517,\n  \"fields\": [\n    {\n      \"column\": \"Artist Name\",\n      \"properties\": {\n        \"dtype\": \"string\",\n        \"num_unique_values\": 8287,\n        \"samples\": [\n          \"Back On Earth\",\n          \"Kings of Convenience\",\n          \"Seffy Efrati\"\n        ],\n        \"semantic_type\": \"\",\n        \"description\": \"\"\n      }\n    },\n    {\n      \"column\": \"Track Name\",\n      \"properties\": {\n        \"dtype\": \"string\",\n        \"num_unique_values\": 13021,\n        \"samples\": [\n          \"Perdido\",\n          \"If You Have Ghosts\",\n          \"Cause You Got Me\"\n        ],\n        \"semantic_type\": \"\",\n        \"description\": \"\"\n      }\n    },\n    {\n      \"column\": \"Popularity\",\n      \"properties\": {\n        \"dtype\": \"number\",\n        \"std\": 17.400842652890997,\n        \"min\": 1.0,\n        \"max\": 100.0,\n        \"num_unique_values\": 100,\n        \"samples\": [\n          14.0,\n          7.0,\n          67.0\n        ],\n        \"semantic_type\": \"\",\n        \"description\": \"\"\n      }\n    },\n    {\n      \"column\": \"danceability\",\n      \"properties\": {\n        \"dtype\": \"number\",\n        \"std\": 0.16683801168616924,\n        \"min\": 0.0596,\n        \"max\": 0.989,\n        \"num_unique_values\": 896,\n        \"samples\": [\n          0.302,\n          0.176,\n          0.186\n        ],\n        \"semantic_type\": \"\",\n        \"description\": \"\"\n      }\n    },\n    {\n      \"column\": \"energy\",\n      \"properties\": {\n        \"dtype\": \"number\",\n        \"std\": 0.2354020779679106,\n        \"min\": 0.00121,\n        \"max\": 1.0,\n        \"num_unique_values\": 1161,\n        \"samples\": [\n          0.328,\n          0.272,\n          0.737\n        ],\n        \"semantic_type\": \"\",\n        \"description\": \"\"\n      }\n    },\n    {\n      \"column\": \"key\",\n      \"properties\": {\n        \"dtype\": \"number\",\n        \"std\": 3.1963325070590978,\n        \"min\": 1.0,\n        \"max\": 11.0,\n        \"num_unique_values\": 11,\n        \"samples\": [\n          5.0,\n          1.0,\n          8.0\n        ],\n        \"semantic_type\": \"\",\n        \"description\": \"\"\n      }\n    },\n    {\n      \"column\": \"loudness\",\n      \"properties\": {\n        \"dtype\": \"number\",\n        \"std\": 4.018688176310801,\n        \"min\": -39.952,\n        \"max\": 1.355,\n        \"num_unique_values\": 8231,\n        \"samples\": [\n          -3.806,\n          -6.296,\n          -10.809\n        ],\n        \"semantic_type\": \"\",\n        \"description\": \"\"\n      }\n    },\n    {\n      \"column\": \"mode\",\n      \"properties\": {\n        \"dtype\": \"number\",\n        \"std\": 0,\n        \"min\": 0,\n        \"max\": 1,\n        \"num_unique_values\": 2,\n        \"samples\": [\n          0,\n          1\n        ],\n        \"semantic_type\": \"\",\n        \"description\": \"\"\n      }\n    },\n    {\n      \"column\": \"speechiness\",\n      \"properties\": {\n        \"dtype\": \"number\",\n        \"std\": 0.08497689697124682,\n        \"min\": 0.0225,\n        \"max\": 0.955,\n        \"num_unique_values\": 1186,\n        \"samples\": [\n          0.0556,\n          0.0956\n        ],\n        \"semantic_type\": \"\",\n        \"description\": \"\"\n      }\n    },\n    {\n      \"column\": \"acousticness\",\n      \"properties\": {\n        \"dtype\": \"number\",\n        \"std\": 0.3096053491722663,\n        \"min\": 0.0,\n        \"max\": 0.996,\n        \"num_unique_values\": 3834,\n        \"samples\": [\n          0.0764,\n          0.0893\n        ],\n        \"semantic_type\": \"\",\n        \"description\": \"\"\n      }\n    },\n    {\n      \"column\": \"instrumentalness\",\n      \"properties\": {\n        \"dtype\": \"number\",\n        \"std\": 0.3029345974963815,\n        \"min\": 1e-06,\n        \"max\": 0.996,\n        \"num_unique_values\": 4051,\n        \"samples\": [\n          0.0108,\n          0.00328\n        ],\n        \"semantic_type\": \"\",\n        \"description\": \"\"\n      }\n    },\n    {\n      \"column\": \"liveness\",\n      \"properties\": {\n        \"dtype\": \"number\",\n        \"std\": 0.16021205426300064,\n        \"min\": 0.0119,\n        \"max\": 1.0,\n        \"num_unique_values\": 1428,\n        \"samples\": [\n          0.148,\n          0.524\n        ],\n        \"semantic_type\": \"\",\n        \"description\": \"\"\n      }\n    },\n    {\n      \"column\": \"valence\",\n      \"properties\": {\n        \"dtype\": \"number\",\n        \"std\": 0.2402278139354795,\n        \"min\": 0.0215,\n        \"max\": 0.986,\n        \"num_unique_values\": 1281,\n        \"samples\": [\n          0.0819,\n          0.162\n        ],\n        \"semantic_type\": \"\",\n        \"description\": \"\"\n      }\n    },\n    {\n      \"column\": \"tempo\",\n      \"properties\": {\n        \"dtype\": \"number\",\n        \"std\": 29.68642874753729,\n        \"min\": 30.557,\n        \"max\": 217.416,\n        \"num_unique_values\": 11928,\n        \"samples\": [\n          163.809,\n          110.373\n        ],\n        \"semantic_type\": \"\",\n        \"description\": \"\"\n      }\n    },\n    {\n      \"column\": \"duration_in min/ms\",\n      \"properties\": {\n        \"dtype\": \"number\",\n        \"std\": 114832.60115578267,\n        \"min\": 0.50165,\n        \"max\": 1477187.0,\n        \"num_unique_values\": 12400,\n        \"samples\": [\n          4.35616667,\n          3.254\n        ],\n        \"semantic_type\": \"\",\n        \"description\": \"\"\n      }\n    },\n    {\n      \"column\": \"time_signature\",\n      \"properties\": {\n        \"dtype\": \"number\",\n        \"std\": 0,\n        \"min\": 1,\n        \"max\": 5,\n        \"num_unique_values\": 4,\n        \"samples\": [\n          3,\n          5\n        ],\n        \"semantic_type\": \"\",\n        \"description\": \"\"\n      }\n    },\n    {\n      \"column\": \"Genre\",\n      \"properties\": {\n        \"dtype\": \"number\",\n        \"std\": 3,\n        \"min\": 0,\n        \"max\": 10,\n        \"num_unique_values\": 11,\n        \"samples\": [\n          8,\n          5\n        ],\n        \"semantic_type\": \"\",\n        \"description\": \"\"\n      }\n    }\n  ]\n}",
              "type": "dataframe",
              "variable_name": "dataset"
            },
            "text/html": [
              "\n",
              "  <div id=\"df-d38619b4-11aa-430e-b8ae-926eda89edab\" class=\"colab-df-container\">\n",
              "    <div>\n",
              "<style scoped>\n",
              "    .dataframe tbody tr th:only-of-type {\n",
              "        vertical-align: middle;\n",
              "    }\n",
              "\n",
              "    .dataframe tbody tr th {\n",
              "        vertical-align: top;\n",
              "    }\n",
              "\n",
              "    .dataframe thead th {\n",
              "        text-align: right;\n",
              "    }\n",
              "</style>\n",
              "<table border=\"1\" class=\"dataframe\">\n",
              "  <thead>\n",
              "    <tr style=\"text-align: right;\">\n",
              "      <th></th>\n",
              "      <th>Artist Name</th>\n",
              "      <th>Track Name</th>\n",
              "      <th>Popularity</th>\n",
              "      <th>danceability</th>\n",
              "      <th>energy</th>\n",
              "      <th>key</th>\n",
              "      <th>loudness</th>\n",
              "      <th>mode</th>\n",
              "      <th>speechiness</th>\n",
              "      <th>acousticness</th>\n",
              "      <th>instrumentalness</th>\n",
              "      <th>liveness</th>\n",
              "      <th>valence</th>\n",
              "      <th>tempo</th>\n",
              "      <th>duration_in min/ms</th>\n",
              "      <th>time_signature</th>\n",
              "      <th>Genre</th>\n",
              "    </tr>\n",
              "  </thead>\n",
              "  <tbody>\n",
              "    <tr>\n",
              "      <th>0</th>\n",
              "      <td>Bruno Mars</td>\n",
              "      <td>That's What I Like (feat. Gucci Mane)</td>\n",
              "      <td>60.0</td>\n",
              "      <td>0.854</td>\n",
              "      <td>0.564</td>\n",
              "      <td>1.0</td>\n",
              "      <td>-4.964</td>\n",
              "      <td>1</td>\n",
              "      <td>0.0485</td>\n",
              "      <td>0.017100</td>\n",
              "      <td>NaN</td>\n",
              "      <td>0.0849</td>\n",
              "      <td>0.8990</td>\n",
              "      <td>134.071</td>\n",
              "      <td>234596.0</td>\n",
              "      <td>4</td>\n",
              "      <td>5</td>\n",
              "    </tr>\n",
              "    <tr>\n",
              "      <th>1</th>\n",
              "      <td>Boston</td>\n",
              "      <td>Hitch a Ride</td>\n",
              "      <td>54.0</td>\n",
              "      <td>0.382</td>\n",
              "      <td>0.814</td>\n",
              "      <td>3.0</td>\n",
              "      <td>-7.230</td>\n",
              "      <td>1</td>\n",
              "      <td>0.0406</td>\n",
              "      <td>0.001100</td>\n",
              "      <td>0.004010</td>\n",
              "      <td>0.1010</td>\n",
              "      <td>0.5690</td>\n",
              "      <td>116.454</td>\n",
              "      <td>251733.0</td>\n",
              "      <td>4</td>\n",
              "      <td>10</td>\n",
              "    </tr>\n",
              "    <tr>\n",
              "      <th>2</th>\n",
              "      <td>The Raincoats</td>\n",
              "      <td>No Side to Fall In</td>\n",
              "      <td>35.0</td>\n",
              "      <td>0.434</td>\n",
              "      <td>0.614</td>\n",
              "      <td>6.0</td>\n",
              "      <td>-8.334</td>\n",
              "      <td>1</td>\n",
              "      <td>0.0525</td>\n",
              "      <td>0.486000</td>\n",
              "      <td>0.000196</td>\n",
              "      <td>0.3940</td>\n",
              "      <td>0.7870</td>\n",
              "      <td>147.681</td>\n",
              "      <td>109667.0</td>\n",
              "      <td>4</td>\n",
              "      <td>6</td>\n",
              "    </tr>\n",
              "    <tr>\n",
              "      <th>3</th>\n",
              "      <td>Deno</td>\n",
              "      <td>Lingo (feat. J.I &amp; Chunkz)</td>\n",
              "      <td>66.0</td>\n",
              "      <td>0.853</td>\n",
              "      <td>0.597</td>\n",
              "      <td>10.0</td>\n",
              "      <td>-6.528</td>\n",
              "      <td>0</td>\n",
              "      <td>0.0555</td>\n",
              "      <td>0.021200</td>\n",
              "      <td>NaN</td>\n",
              "      <td>0.1220</td>\n",
              "      <td>0.5690</td>\n",
              "      <td>107.033</td>\n",
              "      <td>173968.0</td>\n",
              "      <td>4</td>\n",
              "      <td>5</td>\n",
              "    </tr>\n",
              "    <tr>\n",
              "      <th>4</th>\n",
              "      <td>Red Hot Chili Peppers</td>\n",
              "      <td>Nobody Weird Like Me - Remastered</td>\n",
              "      <td>53.0</td>\n",
              "      <td>0.167</td>\n",
              "      <td>0.975</td>\n",
              "      <td>2.0</td>\n",
              "      <td>-4.279</td>\n",
              "      <td>1</td>\n",
              "      <td>0.2160</td>\n",
              "      <td>0.000169</td>\n",
              "      <td>0.016100</td>\n",
              "      <td>0.1720</td>\n",
              "      <td>0.0918</td>\n",
              "      <td>199.060</td>\n",
              "      <td>229960.0</td>\n",
              "      <td>4</td>\n",
              "      <td>10</td>\n",
              "    </tr>\n",
              "  </tbody>\n",
              "</table>\n",
              "</div>\n",
              "    <div class=\"colab-df-buttons\">\n",
              "\n",
              "  <div class=\"colab-df-container\">\n",
              "    <button class=\"colab-df-convert\" onclick=\"convertToInteractive('df-d38619b4-11aa-430e-b8ae-926eda89edab')\"\n",
              "            title=\"Convert this dataframe to an interactive table.\"\n",
              "            style=\"display:none;\">\n",
              "\n",
              "  <svg xmlns=\"http://www.w3.org/2000/svg\" height=\"24px\" viewBox=\"0 -960 960 960\">\n",
              "    <path d=\"M120-120v-720h720v720H120Zm60-500h600v-160H180v160Zm220 220h160v-160H400v160Zm0 220h160v-160H400v160ZM180-400h160v-160H180v160Zm440 0h160v-160H620v160ZM180-180h160v-160H180v160Zm440 0h160v-160H620v160Z\"/>\n",
              "  </svg>\n",
              "    </button>\n",
              "\n",
              "  <style>\n",
              "    .colab-df-container {\n",
              "      display:flex;\n",
              "      gap: 12px;\n",
              "    }\n",
              "\n",
              "    .colab-df-convert {\n",
              "      background-color: #E8F0FE;\n",
              "      border: none;\n",
              "      border-radius: 50%;\n",
              "      cursor: pointer;\n",
              "      display: none;\n",
              "      fill: #1967D2;\n",
              "      height: 32px;\n",
              "      padding: 0 0 0 0;\n",
              "      width: 32px;\n",
              "    }\n",
              "\n",
              "    .colab-df-convert:hover {\n",
              "      background-color: #E2EBFA;\n",
              "      box-shadow: 0px 1px 2px rgba(60, 64, 67, 0.3), 0px 1px 3px 1px rgba(60, 64, 67, 0.15);\n",
              "      fill: #174EA6;\n",
              "    }\n",
              "\n",
              "    .colab-df-buttons div {\n",
              "      margin-bottom: 4px;\n",
              "    }\n",
              "\n",
              "    [theme=dark] .colab-df-convert {\n",
              "      background-color: #3B4455;\n",
              "      fill: #D2E3FC;\n",
              "    }\n",
              "\n",
              "    [theme=dark] .colab-df-convert:hover {\n",
              "      background-color: #434B5C;\n",
              "      box-shadow: 0px 1px 3px 1px rgba(0, 0, 0, 0.15);\n",
              "      filter: drop-shadow(0px 1px 2px rgba(0, 0, 0, 0.3));\n",
              "      fill: #FFFFFF;\n",
              "    }\n",
              "  </style>\n",
              "\n",
              "    <script>\n",
              "      const buttonEl =\n",
              "        document.querySelector('#df-d38619b4-11aa-430e-b8ae-926eda89edab button.colab-df-convert');\n",
              "      buttonEl.style.display =\n",
              "        google.colab.kernel.accessAllowed ? 'block' : 'none';\n",
              "\n",
              "      async function convertToInteractive(key) {\n",
              "        const element = document.querySelector('#df-d38619b4-11aa-430e-b8ae-926eda89edab');\n",
              "        const dataTable =\n",
              "          await google.colab.kernel.invokeFunction('convertToInteractive',\n",
              "                                                    [key], {});\n",
              "        if (!dataTable) return;\n",
              "\n",
              "        const docLinkHtml = 'Like what you see? Visit the ' +\n",
              "          '<a target=\"_blank\" href=https://colab.research.google.com/notebooks/data_table.ipynb>data table notebook</a>'\n",
              "          + ' to learn more about interactive tables.';\n",
              "        element.innerHTML = '';\n",
              "        dataTable['output_type'] = 'display_data';\n",
              "        await google.colab.output.renderOutput(dataTable, element);\n",
              "        const docLink = document.createElement('div');\n",
              "        docLink.innerHTML = docLinkHtml;\n",
              "        element.appendChild(docLink);\n",
              "      }\n",
              "    </script>\n",
              "  </div>\n",
              "\n",
              "\n",
              "<div id=\"df-85895ad0-a2a9-4d64-97e6-1f1d4483856b\">\n",
              "  <button class=\"colab-df-quickchart\" onclick=\"quickchart('df-85895ad0-a2a9-4d64-97e6-1f1d4483856b')\"\n",
              "            title=\"Suggest charts\"\n",
              "            style=\"display:none;\">\n",
              "\n",
              "<svg xmlns=\"http://www.w3.org/2000/svg\" height=\"24px\"viewBox=\"0 0 24 24\"\n",
              "     width=\"24px\">\n",
              "    <g>\n",
              "        <path d=\"M19 3H5c-1.1 0-2 .9-2 2v14c0 1.1.9 2 2 2h14c1.1 0 2-.9 2-2V5c0-1.1-.9-2-2-2zM9 17H7v-7h2v7zm4 0h-2V7h2v10zm4 0h-2v-4h2v4z\"/>\n",
              "    </g>\n",
              "</svg>\n",
              "  </button>\n",
              "\n",
              "<style>\n",
              "  .colab-df-quickchart {\n",
              "      --bg-color: #E8F0FE;\n",
              "      --fill-color: #1967D2;\n",
              "      --hover-bg-color: #E2EBFA;\n",
              "      --hover-fill-color: #174EA6;\n",
              "      --disabled-fill-color: #AAA;\n",
              "      --disabled-bg-color: #DDD;\n",
              "  }\n",
              "\n",
              "  [theme=dark] .colab-df-quickchart {\n",
              "      --bg-color: #3B4455;\n",
              "      --fill-color: #D2E3FC;\n",
              "      --hover-bg-color: #434B5C;\n",
              "      --hover-fill-color: #FFFFFF;\n",
              "      --disabled-bg-color: #3B4455;\n",
              "      --disabled-fill-color: #666;\n",
              "  }\n",
              "\n",
              "  .colab-df-quickchart {\n",
              "    background-color: var(--bg-color);\n",
              "    border: none;\n",
              "    border-radius: 50%;\n",
              "    cursor: pointer;\n",
              "    display: none;\n",
              "    fill: var(--fill-color);\n",
              "    height: 32px;\n",
              "    padding: 0;\n",
              "    width: 32px;\n",
              "  }\n",
              "\n",
              "  .colab-df-quickchart:hover {\n",
              "    background-color: var(--hover-bg-color);\n",
              "    box-shadow: 0 1px 2px rgba(60, 64, 67, 0.3), 0 1px 3px 1px rgba(60, 64, 67, 0.15);\n",
              "    fill: var(--button-hover-fill-color);\n",
              "  }\n",
              "\n",
              "  .colab-df-quickchart-complete:disabled,\n",
              "  .colab-df-quickchart-complete:disabled:hover {\n",
              "    background-color: var(--disabled-bg-color);\n",
              "    fill: var(--disabled-fill-color);\n",
              "    box-shadow: none;\n",
              "  }\n",
              "\n",
              "  .colab-df-spinner {\n",
              "    border: 2px solid var(--fill-color);\n",
              "    border-color: transparent;\n",
              "    border-bottom-color: var(--fill-color);\n",
              "    animation:\n",
              "      spin 1s steps(1) infinite;\n",
              "  }\n",
              "\n",
              "  @keyframes spin {\n",
              "    0% {\n",
              "      border-color: transparent;\n",
              "      border-bottom-color: var(--fill-color);\n",
              "      border-left-color: var(--fill-color);\n",
              "    }\n",
              "    20% {\n",
              "      border-color: transparent;\n",
              "      border-left-color: var(--fill-color);\n",
              "      border-top-color: var(--fill-color);\n",
              "    }\n",
              "    30% {\n",
              "      border-color: transparent;\n",
              "      border-left-color: var(--fill-color);\n",
              "      border-top-color: var(--fill-color);\n",
              "      border-right-color: var(--fill-color);\n",
              "    }\n",
              "    40% {\n",
              "      border-color: transparent;\n",
              "      border-right-color: var(--fill-color);\n",
              "      border-top-color: var(--fill-color);\n",
              "    }\n",
              "    60% {\n",
              "      border-color: transparent;\n",
              "      border-right-color: var(--fill-color);\n",
              "    }\n",
              "    80% {\n",
              "      border-color: transparent;\n",
              "      border-right-color: var(--fill-color);\n",
              "      border-bottom-color: var(--fill-color);\n",
              "    }\n",
              "    90% {\n",
              "      border-color: transparent;\n",
              "      border-bottom-color: var(--fill-color);\n",
              "    }\n",
              "  }\n",
              "</style>\n",
              "\n",
              "  <script>\n",
              "    async function quickchart(key) {\n",
              "      const quickchartButtonEl =\n",
              "        document.querySelector('#' + key + ' button');\n",
              "      quickchartButtonEl.disabled = true;  // To prevent multiple clicks.\n",
              "      quickchartButtonEl.classList.add('colab-df-spinner');\n",
              "      try {\n",
              "        const charts = await google.colab.kernel.invokeFunction(\n",
              "            'suggestCharts', [key], {});\n",
              "      } catch (error) {\n",
              "        console.error('Error during call to suggestCharts:', error);\n",
              "      }\n",
              "      quickchartButtonEl.classList.remove('colab-df-spinner');\n",
              "      quickchartButtonEl.classList.add('colab-df-quickchart-complete');\n",
              "    }\n",
              "    (() => {\n",
              "      let quickchartButtonEl =\n",
              "        document.querySelector('#df-85895ad0-a2a9-4d64-97e6-1f1d4483856b button');\n",
              "      quickchartButtonEl.style.display =\n",
              "        google.colab.kernel.accessAllowed ? 'block' : 'none';\n",
              "    })();\n",
              "  </script>\n",
              "</div>\n",
              "\n",
              "    </div>\n",
              "  </div>\n"
            ],
            "text/plain": [
              "             Artist Name                             Track Name  Popularity  \\\n",
              "0             Bruno Mars  That's What I Like (feat. Gucci Mane)        60.0   \n",
              "1                 Boston                           Hitch a Ride        54.0   \n",
              "2          The Raincoats                     No Side to Fall In        35.0   \n",
              "3                   Deno             Lingo (feat. J.I & Chunkz)        66.0   \n",
              "4  Red Hot Chili Peppers      Nobody Weird Like Me - Remastered        53.0   \n",
              "\n",
              "   danceability  energy   key  loudness  mode  speechiness  acousticness  \\\n",
              "0         0.854   0.564   1.0    -4.964     1       0.0485      0.017100   \n",
              "1         0.382   0.814   3.0    -7.230     1       0.0406      0.001100   \n",
              "2         0.434   0.614   6.0    -8.334     1       0.0525      0.486000   \n",
              "3         0.853   0.597  10.0    -6.528     0       0.0555      0.021200   \n",
              "4         0.167   0.975   2.0    -4.279     1       0.2160      0.000169   \n",
              "\n",
              "   instrumentalness  liveness  valence    tempo  duration_in min/ms  \\\n",
              "0               NaN    0.0849   0.8990  134.071            234596.0   \n",
              "1          0.004010    0.1010   0.5690  116.454            251733.0   \n",
              "2          0.000196    0.3940   0.7870  147.681            109667.0   \n",
              "3               NaN    0.1220   0.5690  107.033            173968.0   \n",
              "4          0.016100    0.1720   0.0918  199.060            229960.0   \n",
              "\n",
              "   time_signature  Genre  \n",
              "0               4      5  \n",
              "1               4     10  \n",
              "2               4      6  \n",
              "3               4      5  \n",
              "4               4     10  "
            ]
          },
          "execution_count": 3,
          "metadata": {},
          "output_type": "execute_result"
        }
      ],
      "source": [
        "#examining the dataset\n",
        "dataset.head()"
      ]
    },
    {
      "cell_type": "code",
      "execution_count": 7,
      "metadata": {
        "colab": {
          "base_uri": "https://localhost:8080/"
        },
        "id": "h_-aJtvhFV2k",
        "outputId": "f8d4311d-6a5c-4cf2-e90d-be20eaa696fe"
      },
      "outputs": [
        {
          "name": "stdout",
          "output_type": "stream",
          "text": [
            "Artist Name              0\n",
            "Track Name               0\n",
            "Popularity             394\n",
            "danceability             0\n",
            "energy                   0\n",
            "key                   1743\n",
            "loudness                 0\n",
            "mode                     0\n",
            "speechiness              0\n",
            "acousticness             0\n",
            "instrumentalness      3587\n",
            "liveness                 0\n",
            "valence                  0\n",
            "tempo                    0\n",
            "duration_in min/ms       0\n",
            "time_signature           0\n",
            "Genre                    0\n",
            "dtype: int64\n"
          ]
        }
      ],
      "source": [
        "#see if the dataset has null values\n",
        "print(dataset.isnull().sum())"
      ]
    },
    {
      "cell_type": "code",
      "execution_count": 8,
      "metadata": {
        "id": "V_BxvlC9FiAL"
      },
      "outputs": [],
      "source": [
        "#imputating the null values\n",
        "dataset['Popularity'].fillna(dataset['Popularity'].median(), inplace=True)\n",
        "dataset['key'].fillna(dataset['key'].mode()[0], inplace=True)\n",
        "dataset['instrumentalness'].fillna(0, inplace=True)"
      ]
    },
    {
      "cell_type": "code",
      "execution_count": 9,
      "metadata": {
        "colab": {
          "base_uri": "https://localhost:8080/"
        },
        "id": "fYljXQh_GXap",
        "outputId": "e88c8428-fea9-44b1-fc00-5047d0223c4f"
      },
      "outputs": [
        {
          "name": "stdout",
          "output_type": "stream",
          "text": [
            "Artist Name           0\n",
            "Track Name            0\n",
            "Popularity            0\n",
            "danceability          0\n",
            "energy                0\n",
            "key                   0\n",
            "loudness              0\n",
            "mode                  0\n",
            "speechiness           0\n",
            "acousticness          0\n",
            "instrumentalness      0\n",
            "liveness              0\n",
            "valence               0\n",
            "tempo                 0\n",
            "duration_in min/ms    0\n",
            "time_signature        0\n",
            "Genre                 0\n",
            "dtype: int64\n"
          ]
        }
      ],
      "source": [
        "#no more null values :)\n",
        "print(dataset.isnull().sum())"
      ]
    },
    {
      "cell_type": "code",
      "execution_count": 10,
      "metadata": {
        "colab": {
          "base_uri": "https://localhost:8080/"
        },
        "id": "gKwuPGM9Gae8",
        "outputId": "8766fa97-fc2f-4ea3-b999-8866427ffe07"
      },
      "outputs": [
        {
          "name": "stdout",
          "output_type": "stream",
          "text": [
            "0\n"
          ]
        }
      ],
      "source": [
        "#no duplicates\n",
        "print(dataset.duplicated().sum())"
      ]
    },
    {
      "cell_type": "code",
      "execution_count": 11,
      "metadata": {
        "colab": {
          "base_uri": "https://localhost:8080/"
        },
        "id": "ChGGikvrGi9G",
        "outputId": "f71c5626-f84c-4883-c3b5-b0b4a0378eb5"
      },
      "outputs": [
        {
          "name": "stdout",
          "output_type": "stream",
          "text": [
            "Artist Name            object\n",
            "Track Name             object\n",
            "Popularity            float64\n",
            "danceability          float64\n",
            "energy                float64\n",
            "key                   float64\n",
            "loudness              float64\n",
            "mode                    int64\n",
            "speechiness           float64\n",
            "acousticness          float64\n",
            "instrumentalness      float64\n",
            "liveness              float64\n",
            "valence               float64\n",
            "tempo                 float64\n",
            "duration_in min/ms    float64\n",
            "time_signature          int64\n",
            "Genre                   int64\n",
            "dtype: object\n"
          ]
        }
      ],
      "source": [
        "#exmaining datatypes of each column\n",
        "print(dataset.dtypes)"
      ]
    },
    {
      "cell_type": "code",
      "execution_count": 12,
      "metadata": {
        "id": "L-4ZafiMgcMK"
      },
      "outputs": [],
      "source": [
        "#removing duplices of artist name + track name (so the quries will be fair)\n",
        "dataset.drop_duplicates(subset=['Artist Name', 'Track Name'], inplace=True)"
      ]
    },
    {
      "cell_type": "code",
      "execution_count": null,
      "metadata": {},
      "outputs": [],
      "source": [
        "#nader cleaning\n",
        "df.isna().sum()/len(df)*100\n",
        "mean_value = df['Popularity'].mean()\n",
        "df['Popularity'].fillna(mean_value, inplace=True)\n",
        "#df.dropna(subset=['Popularity'], inplace=True)\n",
        "df = df.drop_duplicates()\n",
        "# Calculate the mode of 'key' column within each group defined by 'Genre'\n",
        "mode_per_genre = df.groupby('Genre')['key'].apply(lambda x: x.mode().iloc[0])\n",
        "\n",
        "# Fill missing values in 'key' column with the mode of their respective genre\n",
        "df['key'] = df.apply(lambda row: mode_per_genre[row['Genre']] if pd.isna(row['key']) else row['key'], axis=1)\n",
        "imputerProMax = IterativeImputer()\n",
        "impute_columns = df.drop([\"Artist Name\", \"Track Name\"], axis=1).columns\n",
        "imputerProMax.fit(df[impute_columns])\n",
        "imputed_values = imputerProMax.transform(df[impute_columns])\n",
        "df[impute_columns] = imputed_values\n",
        "df.isna().sum()/len(df)*100\n",
        "def convert_to_milliseconds(duration):\n",
        "    if duration < 60:\n",
        "        return duration * 60000\n",
        "    else:\n",
        "        return duration\n",
        "\n",
        "df['duration_in min/ms'] = df['duration_in min/ms'].apply(convert_to_milliseconds)\n",
        "\n",
        "print(df[df.duplicated()])\n",
        "df = df.drop_duplicates()\n",
        "def min_max_normalize(column):\n",
        "    return (column - column.min()) / (column.max() - column.min())\n",
        "\n",
        "df['tempo'] = min_max_normalize(df['tempo'])\n",
        "df.head(100)\n",
        "df.info()"
      ]
    },
    {
      "cell_type": "code",
      "execution_count": 4,
      "metadata": {
        "colab": {
          "base_uri": "https://localhost:8080/"
        },
        "id": "BWbWufX9iVVf",
        "outputId": "f89597ae-c4c3-4740-c078-31f32a028966"
      },
      "outputs": [
        {
          "name": "stdout",
          "output_type": "stream",
          "text": [
            "Collecting pyspark\n",
            "  Downloading pyspark-3.5.1.tar.gz (317.0 MB)\n",
            "\u001b[2K     \u001b[90m━━━━━━━━━━━━━━━━━━━━━━━━━━━━━━━━━━━━━━━━\u001b[0m \u001b[32m317.0/317.0 MB\u001b[0m \u001b[31m3.5 MB/s\u001b[0m eta \u001b[36m0:00:00\u001b[0m\n",
            "\u001b[?25h  Preparing metadata (setup.py) ... \u001b[?25l\u001b[?25hdone\n",
            "Requirement already satisfied: py4j==0.10.9.7 in /usr/local/lib/python3.10/dist-packages (from pyspark) (0.10.9.7)\n",
            "Building wheels for collected packages: pyspark\n",
            "  Building wheel for pyspark (setup.py) ... \u001b[?25l\u001b[?25hdone\n",
            "  Created wheel for pyspark: filename=pyspark-3.5.1-py2.py3-none-any.whl size=317488491 sha256=6b6a2db2098bc0ec5a6aff6ff298cc95c12d12c2a01496a9c1562f250438d416\n",
            "  Stored in directory: /root/.cache/pip/wheels/80/1d/60/2c256ed38dddce2fdd93be545214a63e02fbd8d74fb0b7f3a6\n",
            "Successfully built pyspark\n",
            "Installing collected packages: pyspark\n",
            "Successfully installed pyspark-3.5.1\n",
            "Collecting findspark\n",
            "  Downloading findspark-2.0.1-py2.py3-none-any.whl (4.4 kB)\n",
            "Installing collected packages: findspark\n",
            "Successfully installed findspark-2.0.1\n",
            "Collecting pyarrow==1.0.0\n",
            "  Downloading pyarrow-1.0.0.tar.gz (1.2 MB)\n",
            "\u001b[2K     \u001b[90m━━━━━━━━━━━━━━━━━━━━━━━━━━━━━━━━━━━━━━━━\u001b[0m \u001b[32m1.2/1.2 MB\u001b[0m \u001b[31m9.1 MB/s\u001b[0m eta \u001b[36m0:00:00\u001b[0m\n",
            "\u001b[?25h  \u001b[1;31merror\u001b[0m: \u001b[1msubprocess-exited-with-error\u001b[0m\n",
            "  \n",
            "  \u001b[31m×\u001b[0m \u001b[32mpip subprocess to install build dependencies\u001b[0m did not run successfully.\n",
            "  \u001b[31m│\u001b[0m exit code: \u001b[1;36m1\u001b[0m\n",
            "  \u001b[31m╰─>\u001b[0m See above for output.\n",
            "  \n",
            "  \u001b[1;35mnote\u001b[0m: This error originates from a subprocess, and is likely not a problem with pip.\n",
            "  Installing build dependencies ... \u001b[?25l\u001b[?25herror\n",
            "\u001b[1;31merror\u001b[0m: \u001b[1msubprocess-exited-with-error\u001b[0m\n",
            "\n",
            "\u001b[31m×\u001b[0m \u001b[32mpip subprocess to install build dependencies\u001b[0m did not run successfully.\n",
            "\u001b[31m│\u001b[0m exit code: \u001b[1;36m1\u001b[0m\n",
            "\u001b[31m╰─>\u001b[0m See above for output.\n",
            "\n",
            "\u001b[1;35mnote\u001b[0m: This error originates from a subprocess, and is likely not a problem with pip.\n"
          ]
        }
      ],
      "source": [
        "#installing libraries\n",
        "!pip install pyspark\n",
        "!pip install findspark\n",
        "!pip install pyarrow==1.0.0"
      ]
    },
    {
      "cell_type": "markdown",
      "metadata": {
        "id": "2J51gfp9l1Q2"
      },
      "source": [
        "# SQL"
      ]
    },
    {
      "cell_type": "code",
      "execution_count": 13,
      "metadata": {
        "id": "n5jiHZ_LjLMc"
      },
      "outputs": [],
      "source": [
        "#improting libraries\n",
        "import findspark\n",
        "findspark.init()#adding spark installiation to our python path"
      ]
    },
    {
      "cell_type": "code",
      "execution_count": 14,
      "metadata": {
        "id": "DzZKJUixjPBo"
      },
      "outputs": [],
      "source": [
        "#improting libraries\n",
        "from pyspark import SparkContext, SparkConf\n",
        "from pyspark.sql import SparkSession"
      ]
    },
    {
      "cell_type": "code",
      "execution_count": 15,
      "metadata": {
        "id": "YqUG1wQyhZqY"
      },
      "outputs": [],
      "source": [
        "#creating our app, dataframe and temporary view/table\n",
        "spark = SparkSession.builder \\\n",
        "    .appName(\"MusicStreamingAnalysis\") \\\n",
        "    .getOrCreate()\n",
        "\n",
        "spark_df = spark.createDataFrame(dataset)\n",
        "spark_df.createOrReplaceTempView(\"songs\")"
      ]
    },
    {
      "cell_type": "markdown",
      "metadata": {
        "id": "_1eLy2dpjCyx"
      },
      "source": [
        "a)Which genre has the highest average popularity?"
      ]
    },
    {
      "cell_type": "code",
      "execution_count": 16,
      "metadata": {
        "colab": {
          "base_uri": "https://localhost:8080/"
        },
        "id": "JmnPXiDqjekb",
        "outputId": "4c5e4240-a4e7-4ab9-d3a6-06f42ccc97f5"
      },
      "outputs": [
        {
          "name": "stdout",
          "output_type": "stream",
          "text": [
            "+-----+-----------------+\n",
            "|Genre|   avg_popularity|\n",
            "+-----+-----------------+\n",
            "|    4|56.70161290322581|\n",
            "+-----+-----------------+\n",
            "\n"
          ]
        }
      ],
      "source": [
        "query = \"\"\"\n",
        "        SELECT Genre, AVG(Popularity) AS avg_popularity\n",
        "        FROM songs\n",
        "        GROUP BY Genre\n",
        "        ORDER BY avg_popularity DESC\n",
        "        LIMIT 1\n",
        "        \"\"\"\n",
        "result = spark.sql(query)\n",
        "\n",
        "result.show()"
      ]
    },
    {
      "cell_type": "markdown",
      "metadata": {
        "id": "IYxM2NaijI9n"
      },
      "source": [
        "b)Display which artists have recorded the most number of songs with a duration of more than 5 minutes"
      ]
    },
    {
      "cell_type": "code",
      "execution_count": 17,
      "metadata": {
        "colab": {
          "base_uri": "https://localhost:8080/"
        },
        "id": "n4Sfl4nOkJAd",
        "outputId": "d3b8c46e-558b-4f4e-86dc-db130dc74ba6"
      },
      "outputs": [
        {
          "name": "stdout",
          "output_type": "stream",
          "text": [
            "+--------------------+---------+\n",
            "|         Artist Name|num_songs|\n",
            "+--------------------+---------+\n",
            "|           Metallica|       19|\n",
            "|                TOOL|       11|\n",
            "|        Led Zeppelin|       11|\n",
            "|         Arcade Fire|        8|\n",
            "|           Pearl Jam|        8|\n",
            "|           Aerosmith|        8|\n",
            "|       Joe Bonamassa|        6|\n",
            "|        Dire Straits|        5|\n",
            "|                  U2|        5|\n",
            "|   Avenged Sevenfold|        5|\n",
            "|Kenny Wayne Shepherd|        5|\n",
            "|             Pantera|        5|\n",
            "|               Opeth|        5|\n",
            "|     The Stone Roses|        4|\n",
            "|                 Yes|        4|\n",
            "|      Phani Narayana|        4|\n",
            "|       The Beta Band|        4|\n",
            "|Creedence Clearwa...|        4|\n",
            "|      Albert Collins|        4|\n",
            "|       Johnny Winter|        4|\n",
            "+--------------------+---------+\n",
            "only showing top 20 rows\n",
            "\n"
          ]
        }
      ],
      "source": [
        "query = \"\"\"\n",
        "        SELECT `Artist Name`, COUNT(*) AS num_songs\n",
        "        FROM songs\n",
        "        WHERE `duration_in min/ms` > 5*60000\n",
        "        GROUP BY `Artist Name`\n",
        "        ORDER BY num_songs DESC\n",
        "        \"\"\"\n",
        "\n",
        "result = spark.sql(query)\n",
        "\n",
        "result.show()"
      ]
    },
    {
      "cell_type": "markdown",
      "metadata": {
        "id": "XlYHzEIyjZAK"
      },
      "source": [
        "c)How many songs are included in every Genre?"
      ]
    },
    {
      "cell_type": "code",
      "execution_count": 18,
      "metadata": {
        "colab": {
          "base_uri": "https://localhost:8080/"
        },
        "id": "qo1Y2VnjkWGG",
        "outputId": "4439a8ae-b21f-46cd-e8e4-7054d81f9159"
      },
      "outputs": [
        {
          "name": "stdout",
          "output_type": "stream",
          "text": [
            "+-----+---------+\n",
            "|Genre|num_songs|\n",
            "+-----+---------+\n",
            "|    0|      571|\n",
            "|    7|      462|\n",
            "|    6|     1879|\n",
            "|    9|     1652|\n",
            "|    5|     1175|\n",
            "|    1|      883|\n",
            "|   10|     3784|\n",
            "|    3|      371|\n",
            "|    8|     1597|\n",
            "|    2|     1135|\n",
            "|    4|      372|\n",
            "+-----+---------+\n",
            "\n"
          ]
        }
      ],
      "source": [
        "query = \"\"\"\n",
        "        SELECT Genre, COUNT(*) AS num_songs\n",
        "        FROM songs\n",
        "        GROUP BY Genre\n",
        "        \"\"\"\n",
        "result = spark.sql(query)\n",
        "\n",
        "result.show()"
      ]
    },
    {
      "cell_type": "markdown",
      "metadata": {
        "id": "JRmyjwLsjk5T"
      },
      "source": [
        "d)Which artists dominated the charts?"
      ]
    },
    {
      "cell_type": "code",
      "execution_count": 19,
      "metadata": {
        "colab": {
          "base_uri": "https://localhost:8080/"
        },
        "id": "icrTJ6-xkngb",
        "outputId": "d5cb2fcb-dd7d-4509-a817-d3281ba64093"
      },
      "outputs": [
        {
          "name": "stdout",
          "output_type": "stream",
          "text": [
            "+--------------------+---------+\n",
            "|         Artist Name|num_songs|\n",
            "+--------------------+---------+\n",
            "|     Backstreet Boys|       65|\n",
            "|            Westlife|       54|\n",
            "|      Britney Spears|       52|\n",
            "|  The Rolling Stones|       31|\n",
            "|                  U2|       27|\n",
            "|           Metallica|       25|\n",
            "|     Lata Mangeshkar|       25|\n",
            "|       Mohammed Rafi|       21|\n",
            "|         The Beatles|       21|\n",
            "|       Fleetwood Mac|       20|\n",
            "|       Kishore Kumar|       20|\n",
            "|             Nirvana|       19|\n",
            "|               AC/DC|       19|\n",
            "|            Coldplay|       18|\n",
            "|        Led Zeppelin|       18|\n",
            "|      The Black Keys|       17|\n",
            "|           Pearl Jam|       17|\n",
            "|              Mukesh|       16|\n",
            "|Red Hot Chili Pep...|       15|\n",
            "|Creedence Clearwa...|       15|\n",
            "+--------------------+---------+\n",
            "only showing top 20 rows\n",
            "\n"
          ]
        }
      ],
      "source": [
        "query = \"\"\"\n",
        "        SELECT `Artist Name`, COUNT(*) AS num_songs\n",
        "        FROM songs\n",
        "        GROUP BY `Artist Name`\n",
        "        ORDER BY num_songs DESC\n",
        "        \"\"\"\n",
        "\n",
        "result = spark.sql(query)\n",
        "\n",
        "result.show()"
      ]
    },
    {
      "cell_type": "markdown",
      "metadata": {
        "id": "bjjIuXmfjpnF"
      },
      "source": [
        "e)Recommend at least 5 fun/not-boring songs that can be played at a party, you can use features like energy, danceability etc.. to represent cheerfulness"
      ]
    },
    {
      "cell_type": "code",
      "execution_count": 20,
      "metadata": {
        "colab": {
          "base_uri": "https://localhost:8080/"
        },
        "id": "dFDvHLQHk5cX",
        "outputId": "79df8414-81a1-4c36-d105-177faedf3751"
      },
      "outputs": [
        {
          "name": "stdout",
          "output_type": "stream",
          "text": [
            "+--------------------+--------------------+----------+------+------------+-------+\n",
            "|         Artist Name|          Track Name|Popularity|energy|danceability|valence|\n",
            "+--------------------+--------------------+----------+------+------------+-------+\n",
            "|               Riton|Friday (feat. Muf...|      94.0| 0.862|       0.824|  0.801|\n",
            "|Riton, Nightcrawl...|Friday (feat. Muf...|      92.0| 0.862|       0.824|  0.801|\n",
            "|       Nelly Furtado|         Promiscuous|      82.0|  0.97|       0.808|  0.868|\n",
            "|       Isaiah Rashad|Lay Wit Ya (feat....|      73.0| 0.859|       0.925|  0.967|\n",
            "|      Yung Baby Tate|I Am (feat. Flo M...|      73.0| 0.835|       0.932|  0.926|\n",
            "+--------------------+--------------------+----------+------+------------+-------+\n",
            "\n"
          ]
        }
      ],
      "source": [
        "query = \"\"\"\n",
        "        SELECT `Artist Name`, `Track Name`, Popularity, energy, danceability, valence\n",
        "        FROM songs\n",
        "        WHERE energy > 0.8 AND danceability > 0.8 AND valence > 0.8\n",
        "        ORDER BY (energy + danceability + valence + Popularity) DESC\n",
        "        LIMIT 5\n",
        "        \"\"\"\n",
        "\n",
        "result = spark.sql(query)\n",
        "\n",
        "result.show()"
      ]
    },
    {
      "cell_type": "code",
      "execution_count": null,
      "metadata": {},
      "outputs": [],
      "source": [
        "#Which genre has the highest average popularity?\n",
        "spark.sql(\"SELECT Genre, AVG(Popularity) AS average_popularity FROM spot GROUP BY Genre ORDER BY average_popularity DESC LIMIT 1;\").show()\n",
        "#Display which artists have recorded the most number of songs with a duration of more than 5 minutes\n",
        "spark.sql(\"SELECT Artist_Name, COUNT(*) AS song_sum FROM spot WHERE duration_in_min_ms > 300000 GROUP BY Artist_Name ORDER BY song_sum DESC;\").show()\n",
        "#how many songs in every genre\n",
        "\n",
        "spark.sql(\"SELECT Genre, COUNT(*) AS song_sum FROM spot GROUP BY Genre;\").show()\n",
        "#which artists dominated the charts\n",
        "spark.sql(\"SELECT Artist_Name, COUNT(*) AS song_sum FROM spot GROUP BY Artist_Name ORDER BY song_sum DESC LIMIT 10; \").show()\n",
        "#Recommend at least 5 fun/not-boring songs that can be played at a party, you can use features like energy, danceability etc.. to represent cheerfulness\n",
        "spark.sql(\"SELECT Artist_Name, Track_Name FROM spot WHERE danceability > 0.7 AND energy > 0.7 AND valence > 0.7 AND acousticness < 0.3 AND instrumentalness < 0.3 ORDER BY Popularity DESC LIMIT 5;\").show()"
      ]
    },
    {
      "cell_type": "markdown",
      "metadata": {
        "id": "P5ipyFn8lv67"
      },
      "source": [
        "# DataFrames"
      ]
    },
    {
      "cell_type": "markdown",
      "metadata": {
        "id": "shHoVe7UjwA0"
      },
      "source": [
        "a)\n",
        "Which genre has the highest average popularity?"
      ]
    },
    {
      "cell_type": "code",
      "execution_count": 21,
      "metadata": {
        "colab": {
          "base_uri": "https://localhost:8080/"
        },
        "id": "A3m65X-IlKXZ",
        "outputId": "2d834359-f36d-4acf-b1b7-48a4d9eef9d0"
      },
      "outputs": [
        {
          "name": "stdout",
          "output_type": "stream",
          "text": [
            "Genre with the highest average popularity: 4\n"
          ]
        }
      ],
      "source": [
        "average_popularity_per_genre = spark_df.groupBy('Genre').avg('Popularity')\n",
        "sorted_popularity_per_genre = average_popularity_per_genre.orderBy('avg(Popularity)', ascending=False)\n",
        "highest_popularity_genre = sorted_popularity_per_genre.first()\n",
        "\n",
        "print(\"Genre with the highest average popularity:\", highest_popularity_genre['Genre'])"
      ]
    },
    {
      "cell_type": "markdown",
      "metadata": {
        "id": "dMvY_VbfjzlS"
      },
      "source": [
        "b)\n",
        "Display which artists have recorded the most number of songs with a duration of more than 5 minutes"
      ]
    },
    {
      "cell_type": "code",
      "execution_count": 22,
      "metadata": {
        "colab": {
          "base_uri": "https://localhost:8080/"
        },
        "id": "OKapegB3l8Xh",
        "outputId": "d1b0a2c2-3625-4ef2-c272-4bb62a176890"
      },
      "outputs": [
        {
          "name": "stdout",
          "output_type": "stream",
          "text": [
            "Artist(s) with the most number of songs with duration > 5 minutes:\n",
            "+--------------------+-----+\n",
            "|         Artist Name|count|\n",
            "+--------------------+-----+\n",
            "|           Metallica|   19|\n",
            "|                TOOL|   11|\n",
            "|        Led Zeppelin|   11|\n",
            "|         Arcade Fire|    8|\n",
            "|           Pearl Jam|    8|\n",
            "|           Aerosmith|    8|\n",
            "|       Joe Bonamassa|    6|\n",
            "|        Dire Straits|    5|\n",
            "|                  U2|    5|\n",
            "|   Avenged Sevenfold|    5|\n",
            "|Kenny Wayne Shepherd|    5|\n",
            "|             Pantera|    5|\n",
            "|               Opeth|    5|\n",
            "|     The Stone Roses|    4|\n",
            "|                 Yes|    4|\n",
            "|      Phani Narayana|    4|\n",
            "|       The Beta Band|    4|\n",
            "|Creedence Clearwa...|    4|\n",
            "|      Albert Collins|    4|\n",
            "|       Johnny Winter|    4|\n",
            "+--------------------+-----+\n",
            "only showing top 20 rows\n",
            "\n"
          ]
        }
      ],
      "source": [
        "from pyspark.sql.functions import col\n",
        "songs_duration_gt_5_min = spark_df.filter(col('duration_in min/ms') > 5*60000)\n",
        "artist_song_counts = songs_duration_gt_5_min.groupBy('Artist Name').count()\n",
        "sorted_artist_song_counts = artist_song_counts.orderBy('count', ascending=False)\n",
        "print(\"Artist(s) with the most number of songs with duration > 5 minutes:\")\n",
        "sorted_artist_song_counts.show()"
      ]
    },
    {
      "cell_type": "markdown",
      "metadata": {
        "id": "VIagXQX9j3Eg"
      },
      "source": [
        "c)\n",
        "How many songs are included in every Genre?"
      ]
    },
    {
      "cell_type": "code",
      "execution_count": 23,
      "metadata": {
        "colab": {
          "base_uri": "https://localhost:8080/"
        },
        "id": "o9zmMXP3nOAA",
        "outputId": "69ce1010-db7f-4da3-8bed-3e5d9e66e021"
      },
      "outputs": [
        {
          "name": "stdout",
          "output_type": "stream",
          "text": [
            "+-----+-----+\n",
            "|Genre|count|\n",
            "+-----+-----+\n",
            "|    0|  571|\n",
            "|    7|  462|\n",
            "|    6| 1879|\n",
            "|    9| 1652|\n",
            "|    5| 1175|\n",
            "|    1|  883|\n",
            "|   10| 3784|\n",
            "|    3|  371|\n",
            "|    8| 1597|\n",
            "|    2| 1135|\n",
            "|    4|  372|\n",
            "+-----+-----+\n",
            "\n"
          ]
        }
      ],
      "source": [
        "songs_per_genre = spark_df.groupBy('Genre').count()\n",
        "songs_per_genre.show()"
      ]
    },
    {
      "cell_type": "markdown",
      "metadata": {
        "id": "zcSFCFQmj9-W"
      },
      "source": [
        "d)\n",
        "Which artists dominated the charts?"
      ]
    },
    {
      "cell_type": "code",
      "execution_count": 24,
      "metadata": {
        "colab": {
          "base_uri": "https://localhost:8080/"
        },
        "id": "uM1AVU0ennmm",
        "outputId": "167755c2-08a4-43cf-864d-b51dac5be0e5"
      },
      "outputs": [
        {
          "name": "stdout",
          "output_type": "stream",
          "text": [
            "Top Artists Dominating the Charts by Number of Songs:\n",
            "+--------------------+-----+\n",
            "|         Artist Name|count|\n",
            "+--------------------+-----+\n",
            "|     Backstreet Boys|   65|\n",
            "|            Westlife|   54|\n",
            "|      Britney Spears|   52|\n",
            "|  The Rolling Stones|   31|\n",
            "|                  U2|   27|\n",
            "|           Metallica|   25|\n",
            "|     Lata Mangeshkar|   25|\n",
            "|       Mohammed Rafi|   21|\n",
            "|         The Beatles|   21|\n",
            "|       Fleetwood Mac|   20|\n",
            "|       Kishore Kumar|   20|\n",
            "|             Nirvana|   19|\n",
            "|               AC/DC|   19|\n",
            "|            Coldplay|   18|\n",
            "|        Led Zeppelin|   18|\n",
            "|      The Black Keys|   17|\n",
            "|           Pearl Jam|   17|\n",
            "|              Mukesh|   16|\n",
            "|Red Hot Chili Pep...|   15|\n",
            "|Creedence Clearwa...|   15|\n",
            "+--------------------+-----+\n",
            "only showing top 20 rows\n",
            "\n"
          ]
        }
      ],
      "source": [
        "total_songs_per_artist = spark_df.groupBy('Artist Name').count()\n",
        "sorted_songs_per_artist = total_songs_per_artist.orderBy('count', ascending=False)\n",
        "print(\"Top Artists Dominating the Charts by Number of Songs:\")\n",
        "sorted_songs_per_artist.show()"
      ]
    },
    {
      "cell_type": "markdown",
      "metadata": {
        "id": "kaTCQJszkBCa"
      },
      "source": [
        "e)\n",
        "Recommend at least 5 fun/not-boring songs that can be played at a party, you can use features like energy, danceability etc.. to represent cheerfulness."
      ]
    },
    {
      "cell_type": "code",
      "execution_count": 25,
      "metadata": {
        "colab": {
          "base_uri": "https://localhost:8080/"
        },
        "id": "7NrR5iD2oIfv",
        "outputId": "873ba35e-2bf0-4084-f21a-413bb2ec24d6"
      },
      "outputs": [
        {
          "name": "stdout",
          "output_type": "stream",
          "text": [
            "Recommended Fun/Not-Boring Songs for a Party:\n",
            "+------------------------------------------------+--------------------------------------------------+----------+------+------------+-------+\n",
            "|Artist Name                                     |Track Name                                        |Popularity|energy|danceability|valence|\n",
            "+------------------------------------------------+--------------------------------------------------+----------+------+------------+-------+\n",
            "|Riton                                           |Friday (feat. Mufasa & Hypeman) - Dopamine Re-Edit|94.0      |0.862 |0.824       |0.801  |\n",
            "|Riton, Nightcrawlers, Mufasa & Hypeman, Dopamine|Friday (feat. Mufasa & Hypeman) - Dopamine Re-Edit|92.0      |0.862 |0.824       |0.801  |\n",
            "|Nelly Furtado                                   |Promiscuous                                       |82.0      |0.97  |0.808       |0.868  |\n",
            "|Yung Baby Tate                                  |I Am (feat. Flo Milli)                            |73.0      |0.835 |0.932       |0.926  |\n",
            "|Isaiah Rashad                                   |Lay Wit Ya (feat. Duke Deuce)                     |73.0      |0.859 |0.925       |0.967  |\n",
            "+------------------------------------------------+--------------------------------------------------+----------+------+------------+-------+\n",
            "\n"
          ]
        }
      ],
      "source": [
        "fun_songs = spark_df.filter((col('energy') >= 0.8) & (col('danceability') >= 0.8) & (col('valence') >= 0.8))\n",
        "top_fun_songs = fun_songs.select('Artist Name', 'Track Name', 'Popularity', 'energy', 'danceability', 'valence').orderBy('Popularity', ascending=False).limit(5)\n",
        "print(\"Recommended Fun/Not-Boring Songs for a Party:\")\n",
        "top_fun_songs.show(truncate=False)"
      ]
    },
    {
      "cell_type": "code",
      "execution_count": null,
      "metadata": {},
      "outputs": [],
      "source": [
        "#a) Which genre has the highest average popularity?\n",
        "bebe = sdf.groupBy(\"Genre\").agg(avg(\"Popularity\").alias(\"avg_popularity\")).orderBy(desc(\"avg_popularity\"))\n",
        "brbr = bebe.first()[\"Genre\"]\n",
        "print(brbr)\n",
        "#b) Display which artists have recorded the most number of songs with a duration of more than 5 minutes\n",
        "fivemin = sdf.filter(sdf[\"duration_in_min_ms\"] > 300000).groupBy(\"Artist_Name\").agg(count(\"*\").alias(\"song_sum\")).orderBy(desc(\"song_sum\"))\n",
        "fivemin.show()\n",
        "\n",
        "#c) How many songs are included in every Genre?\n",
        "sese = sdf.groupBy(\"Genre\").agg(count(\"*\").alias(\"song_sum\"))\n",
        "sese.show()\n",
        "\n",
        "#d) Which artists dominated the charts?\n",
        "ar = sdf.groupBy(\"Artist_Name\").agg(count(\"*\").alias(\"song_sum\")).orderBy(desc(\"song_sum\"))\n",
        "ar.show(10)\n",
        "\n",
        "#e) Recommend at least 5 fun/not-boring songs\n",
        "fun = sdf.filter((sdf[\"danceability\"] > 0.7) & (sdf[\"energy\"] > 0.7) & (sdf[\"valence\"] > 0.7) & (sdf[\"acousticness\"] < 0.3) & (sdf[\"instrumentalness\"] < 0.3)).orderBy(desc(\"Popularity\")).select(\"Artist_Name\", \"Track_Name\").limit(5)\n",
        "fun.show()"
      ]
    },
    {
      "cell_type": "markdown",
      "metadata": {
        "id": "TkrM86l8qJ_G"
      },
      "source": [
        "# ML\n"
      ]
    },
    {
      "cell_type": "code",
      "execution_count": 28,
      "metadata": {
        "id": "RNB9085jqJL4"
      },
      "outputs": [],
      "source": [
        "#importing libraries\n",
        "from pyspark.ml.feature import VectorAssembler\n",
        "from pyspark.ml import Pipeline\n",
        "#our columns that we will use to predict the genre\n",
        "feature_columns = ['Popularity', 'danceability', 'energy', 'key', 'loudness', 'mode',\n",
        "                   'speechiness', 'acousticness', 'instrumentalness', 'liveness',\n",
        "                   'valence', 'tempo', 'duration_in min/ms', 'time_signature']\n",
        "#making them into 1 column\n",
        "assembler = VectorAssembler(inputCols=feature_columns, outputCol='features')\n",
        "#splitting data 80% training and 20 % testing\n",
        "(training_data, testing_data) = spark_df.randomSplit([0.8, 0.2], seed=42)\n",
        "#making a pipeline and fitting it on our training data\n",
        "pipeline = Pipeline(stages=[assembler])\n",
        "pipeline_model = pipeline.fit(training_data)\n",
        "#transofrming training&testing data to be able to apply models on it\n",
        "transformed_training_data = pipeline_model.transform(training_data)\n",
        "transformed_testing_data = pipeline_model.transform(testing_data)"
      ]
    },
    {
      "cell_type": "code",
      "execution_count": 29,
      "metadata": {
        "id": "mGxGXLHJqtZa"
      },
      "outputs": [],
      "source": [
        "#importing libraries for classifiers\n",
        "from pyspark.ml.classification import RandomForestClassifier, LogisticRegression, DecisionTreeClassifier\n",
        "from pyspark.ml.evaluation import MulticlassClassificationEvaluator\n",
        "#models\n",
        "rf = RandomForestClassifier(labelCol=\"Genre\", featuresCol=\"features\", numTrees=10)\n",
        "lr = LogisticRegression(labelCol=\"Genre\", featuresCol=\"features\", maxIter=10)\n",
        "dt = DecisionTreeClassifier(labelCol=\"Genre\", featuresCol=\"features\")\n",
        "#fitting models\n",
        "rf_model = rf.fit(transformed_training_data)\n",
        "lr_model = lr.fit(transformed_training_data)\n",
        "dt_model = dt.fit(transformed_training_data)"
      ]
    },
    {
      "cell_type": "code",
      "execution_count": 31,
      "metadata": {
        "colab": {
          "base_uri": "https://localhost:8080/"
        },
        "id": "GAsLQq8zq5ca",
        "outputId": "80a551f5-5a0f-4308-c351-3fa925527f98"
      },
      "outputs": [
        {
          "name": "stdout",
          "output_type": "stream",
          "text": [
            "Random Forest Accuracy: 0.4942357753811826\n",
            "Logistic Regression Accuracy: 0.5228709557456304\n",
            "Decision Tree Accuracy: 0.4737820751208628\n"
          ]
        }
      ],
      "source": [
        "#geeting predicitons using our models\n",
        "rf_predictions = rf_model.transform(transformed_testing_data)\n",
        "lr_predictions = lr_model.transform(transformed_testing_data)\n",
        "dt_predictions = dt_model.transform(transformed_testing_data)\n",
        "#defining evaluator that we will use to evaluate each model\n",
        "evaluator = MulticlassClassificationEvaluator(labelCol=\"Genre\", predictionCol=\"prediction\", metricName=\"accuracy\")\n",
        "#evaluating models\n",
        "rf_accuracy = evaluator.evaluate(rf_predictions)\n",
        "lr_accuracy = evaluator.evaluate(lr_predictions)\n",
        "dt_accuracy = evaluator.evaluate(dt_predictions)\n",
        "#printing accuracy for each model to compare them\n",
        "print(\"Random Forest Accuracy:\", rf_accuracy)\n",
        "print(\"Logistic Regression Accuracy:\", lr_accuracy)\n",
        "print(\"Decision Tree Accuracy:\", dt_accuracy)"
      ]
    },
    {
      "cell_type": "markdown",
      "metadata": {
        "id": "qbsEv2QurOss"
      },
      "source": [
        "Based on the accuracies, the Logistic Regression classifier achieved the highest accuracy of approximately 52.29%. The Random Forest and Decision Tree classifiers achieved slightly lower accuracies of approximately 49.42% and 47.38%, respectively.\n",
        "So based on these results, the Logistic Regression classifier appears to be the best-performing classifier in this case."
      ]
    }
  ],
  "metadata": {
    "colab": {
      "provenance": []
    },
    "kernelspec": {
      "display_name": "Python 3",
      "name": "python3"
    },
    "language_info": {
      "name": "python"
    }
  },
  "nbformat": 4,
  "nbformat_minor": 0
}
